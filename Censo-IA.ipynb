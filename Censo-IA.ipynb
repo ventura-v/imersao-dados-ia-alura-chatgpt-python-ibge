{
 "cells": [
  {
   "cell_type": "code",
   "execution_count": 1,
   "metadata": {
    "collapsed": true
   },
   "outputs": [],
   "source": [
    "import pandas as pd\n",
    "import matplotlib.pyplot as plt\n",
    "from matplotlib.backends.backend_pdf import PdfPages"
   ]
  },
  {
   "cell_type": "code",
   "execution_count": 2,
   "metadata": {},
   "outputs": [],
   "source": [
    "# Pegando a tabela com todos os municípios da planilha \"Municípios\"\n",
    "todos_municipios = pd.read_excel('CD2022_Populacao_Coletada_Imputada_e_Total_Municipio_e_UF.xlsx', sheet_name='Municípios')\n",
    "\n",
    "# Pegando a tabela com todas as UFs (Estados) da planilha \"Unidades da Federação\"\n",
    "ufs = pd.read_excel('CD2022_Populacao_Coletada_Imputada_e_Total_Municipio_e_UF.xlsx', sheet_name='Unidades da Federação')"
   ]
  },
  {
   "cell_type": "code",
   "execution_count": 3,
   "metadata": {},
   "outputs": [],
   "source": [
    "# Criando um dicionário que mapeia as UF para suas capitais\n",
    "capitais = {\n",
    "    'AC': 'Rio Branco',\n",
    "    'AL': 'Maceió',\n",
    "    'AP': 'Macapá',\n",
    "    'AM': 'Manaus',\n",
    "    'BA': 'Salvador',\n",
    "    'CE': 'Fortaleza',\n",
    "    'ES': 'Vitória',\n",
    "    'GO': 'Goiânia',\n",
    "    'MA': 'São Luís',\n",
    "    'MT': 'Cuiabá',\n",
    "    'MS': 'Campo Grande',\n",
    "    'MG': 'Belo Horizonte',\n",
    "    'PA': 'Belém',\n",
    "    'PB': 'João Pessoa',\n",
    "    'PR': 'Curitiba',\n",
    "    'PE': 'Recife',\n",
    "    'PI': 'Teresina',\n",
    "    'RJ': 'Rio de Janeiro',\n",
    "    'RN': 'Natal',\n",
    "    'RS': 'Porto Alegre',\n",
    "    'RO': 'Porto Velho',\n",
    "    'RR': 'Boa Vista',\n",
    "    'SC': 'Florianópolis',\n",
    "    'SP': 'São Paulo',\n",
    "    'SE': 'Aracaju',\n",
    "    'TO': 'Palmas'\n",
    "}\n",
    "\n",
    "# Criando uma nova coluna chamada \"É Capital\" no DataFrame para eliminar as cidades que não são capitais\n",
    "todos_municipios['É Capital'] = todos_municipios.apply(lambda row: row['NOME DO MUNICÍPIO'] == capitais.get(row['UF']), axis=1)\n",
    "\n",
    "# Filtrando as linhas onde a coluna \"É Capital\" retorna \"True\" e adicionando no DataFrame \"apenas_capitais\"\n",
    "apenas_capitais = todos_municipios[todos_municipios['É Capital']]"
   ]
  },
  {
   "cell_type": "code",
   "execution_count": 4,
   "metadata": {},
   "outputs": [
    {
     "name": "stderr",
     "output_type": "stream",
     "text": [
      "C:\\Users\\vinic\\Anaconda3\\lib\\site-packages\\ipykernel_launcher.py:2: SettingWithCopyWarning: \n",
      "A value is trying to be set on a copy of a slice from a DataFrame.\n",
      "Try using .loc[row_indexer,col_indexer] = value instead\n",
      "\n",
      "See the caveats in the documentation: https://pandas.pydata.org/pandas-docs/stable/user_guide/indexing.html#returning-a-view-versus-a-copy\n",
      "  \n"
     ]
    }
   ],
   "source": [
    "# Criando a coluna \"Proporção\" no DataFrame \"apenas_capitais\" e adicionado o valor da População total da Capital (coluna \"POP. TOTAL\" do DataFrame \"apenas_capitais\") pelo valor da População total do seu Estado (coluna \"POP. TOTAL\" do DataFrame \"ufs\")\n",
    "apenas_capitais['Proporção'] = apenas_capitais.apply(lambda row: round((row['POP. TOTAL'] / ufs.loc[ufs['UF'] == row['UF'], 'POP. TOTAL'].values[0])*100, 1) if row['UF'] in ufs['UF'].values else None, axis=1)\n",
    "\n",
    "# print(apenas_capitais)"
   ]
  },
  {
   "cell_type": "code",
   "execution_count": 5,
   "metadata": {},
   "outputs": [
    {
     "name": "stderr",
     "output_type": "stream",
     "text": [
      "C:\\Users\\vinic\\Anaconda3\\lib\\site-packages\\ipykernel_launcher.py:18: RuntimeWarning: More than 20 figures have been opened. Figures created through the pyplot interface (`matplotlib.pyplot.figure`) are retained until explicitly closed and may consume too much memory. (To control this warning, see the rcParam `figure.max_open_warning`).\n"
     ]
    },
    {
     "name": "stdout",
     "output_type": "stream",
     "text": [
      "Gráficos exportados para o arquivo PDF: <matplotlib.backends.backend_pdf.PdfPages object at 0x000001C3BF8E6B00>\n"
     ]
    }
   ],
   "source": [
    "# Pegando a planilha com a proporção da população das Capitais em relação aos seus Estados nos Censos de 1872 a 2022\n",
    "proporcao = pd.read_excel('proporcao-populacao-1872-2022.xls')\n",
    "\n",
    "# Criando um arquivo PDF para exportar os gráficos\n",
    "pdf_arquivo = 'Proporcao.pdf'\n",
    "pdf_paginas = PdfPages(pdf_arquivo)\n",
    "\n",
    "# Definindo as cores para os gráficos de linha\n",
    "cores = ['b', 'g', 'r', 'c', 'm', 'y', 'k'] # siglas de cores do Pandas\n",
    "\n",
    "# Iterando o DataFrame \"proporcao\", criando o gráfico para cada linha do DataFrame e exportando para o PDF\n",
    "for i in range(0, len(proporcao)):\n",
    "    linha = proporcao.iloc[i]\n",
    "    capital = linha['Capital']\n",
    "    dados = linha[1:]  # Exclui a coluna 'Capital'\n",
    "    \n",
    "    # Criando o gráfico\n",
    "    plt.figure()\n",
    "    plt.plot(dados.index, dados.values, marker='o', linestyle='-', label=capital, color=cores[i % len(cores)])\n",
    "    plt.xlabel('Datas do Censo Demográfico')\n",
    "    plt.ylabel(f'Proporção (%)', fontsize=10)\n",
    "    plt.title(f'Proporção da população de {capital} em relação à UF ao longo do tempo', fontsize=9, ha=\"center\")\n",
    "    plt.xticks(rotation=45)  # Rotacionando os rótulos do eixo X para melhor legibilidade\n",
    "    plt.tight_layout()\n",
    "    \n",
    "    # Adicionando a página ao arquivo PDF\n",
    "    pdf_paginas.savefig()\n",
    "\n",
    "# Fechando o arquivo PDF\n",
    "pdf_paginas.close()\n",
    "\n",
    "print(f'Gráficos exportados para o arquivo PDF: {pdf_paginas}')"
   ]
  }
 ],
 "metadata": {
  "kernelspec": {
   "display_name": "Python 3",
   "language": "python",
   "name": "python3"
  },
  "language_info": {
   "codemirror_mode": {
    "name": "ipython",
    "version": 3
   },
   "file_extension": ".py",
   "mimetype": "text/x-python",
   "name": "python",
   "nbconvert_exporter": "python",
   "pygments_lexer": "ipython3",
   "version": "3.6.3"
  }
 },
 "nbformat": 4,
 "nbformat_minor": 2
}
